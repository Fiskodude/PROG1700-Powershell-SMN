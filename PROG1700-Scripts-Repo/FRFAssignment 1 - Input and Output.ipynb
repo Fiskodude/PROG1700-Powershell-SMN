{
 "cells": [
  {
   "cell_type": "markdown",
   "source": [
    "# Assignment 1\n",
    "\n",
    "## Total: 35pts"
   ],
   "metadata": {
    "colab_type": "text",
    "id": "-ycSUdCI6y9U"
   }
  },
  {
   "cell_type": "markdown",
   "source": [
    "### Part A - Write Code! (5pts)\n",
    "\n",
    "For each item below, determine the appropriate PowerShell code to generate the desired output.\n",
    "\n",
    "---"
   ],
   "metadata": {
    "colab_type": "text",
    "id": "Wu4GRcHW6y9Z"
   }
  },
  {
   "cell_type": "markdown",
   "source": [
    "1) Display your name and student ID to the console."
   ],
   "metadata": {
    "colab_type": "text",
    "id": "nTt4W7Ld6y9b"
   }
  },
  {
   "cell_type": "code",
   "execution_count": 1,
   "source": [
    "Write-Host \"Franklin Fiske W0453627\""
   ],
   "outputs": [
    {
     "output_type": "display_data",
     "data": {
      "text/html": [
       "\r\n",
       "<div>\r\n",
       "    <div id='dotnet-interactive-this-cell-3368.Microsoft.DotNet.Interactive.Http.HttpPort' style='display: none'>\r\n",
       "        The below script needs to be able to find the current output cell; this is an easy method to get it.\r\n",
       "    </div>\r\n",
       "    <script type='text/javascript'>\r\n",
       "async function probeAddresses(probingAddresses) {\r\n",
       "    function timeout(ms, promise) {\r\n",
       "        return new Promise(function (resolve, reject) {\r\n",
       "            setTimeout(function () {\r\n",
       "                reject(new Error('timeout'))\r\n",
       "            }, ms)\r\n",
       "            promise.then(resolve, reject)\r\n",
       "        })\r\n",
       "    }\r\n",
       "\r\n",
       "    if (Array.isArray(probingAddresses)) {\r\n",
       "        for (let i = 0; i < probingAddresses.length; i++) {\r\n",
       "\r\n",
       "            let rootUrl = probingAddresses[i];\r\n",
       "\r\n",
       "            if (!rootUrl.endsWith('/')) {\r\n",
       "                rootUrl = `${rootUrl}/`;\r\n",
       "            }\r\n",
       "\r\n",
       "            try {\r\n",
       "                let response = await timeout(1000, fetch(`${rootUrl}discovery`, {\r\n",
       "                    method: 'POST',\r\n",
       "                    cache: 'no-cache',\r\n",
       "                    mode: 'cors',\r\n",
       "                    timeout: 1000,\r\n",
       "                    headers: {\r\n",
       "                        'Content-Type': 'text/plain'\r\n",
       "                    },\r\n",
       "                    body: probingAddresses[i]\r\n",
       "                }));\r\n",
       "\r\n",
       "                if (response.status == 200) {\r\n",
       "                    return rootUrl;\r\n",
       "                }\r\n",
       "            }\r\n",
       "            catch (e) { }\r\n",
       "        }\r\n",
       "    }\r\n",
       "}\r\n",
       "\r\n",
       "function loadDotnetInteractiveApi() {\r\n",
       "    probeAddresses([\"http://192.168.208.129:1000/\", \"http://127.0.0.1:1000/\"])\r\n",
       "        .then((root) => {\r\n",
       "        // use probing to find host url and api resources\r\n",
       "        // load interactive helpers and language services\r\n",
       "        let dotnetInteractiveRequire = require.config({\r\n",
       "        context: '3368.Microsoft.DotNet.Interactive.Http.HttpPort',\r\n",
       "                paths:\r\n",
       "            {\r\n",
       "                'dotnet-interactive': `${root}resources`\r\n",
       "                }\r\n",
       "        }) || require;\r\n",
       "\r\n",
       "            window.dotnetInteractiveRequire = dotnetInteractiveRequire;\r\n",
       "\r\n",
       "            window.configureRequireFromExtension = function(extensionName, extensionCacheBuster) {\r\n",
       "                let paths = {};\r\n",
       "                paths[extensionName] = `${root}extensions/${extensionName}/resources/`;\r\n",
       "                \r\n",
       "                let internalRequire = require.config({\r\n",
       "                    context: extensionCacheBuster,\r\n",
       "                    paths: paths,\r\n",
       "                    urlArgs: `cacheBuster=${extensionCacheBuster}`\r\n",
       "                    }) || require;\r\n",
       "\r\n",
       "                return internalRequire\r\n",
       "            };\r\n",
       "        \r\n",
       "            dotnetInteractiveRequire([\r\n",
       "                    'dotnet-interactive/dotnet-interactive'\r\n",
       "                ],\r\n",
       "                function (dotnet) {\r\n",
       "                    dotnet.init(window);\r\n",
       "                },\r\n",
       "                function (error) {\r\n",
       "                    console.log(error);\r\n",
       "                }\r\n",
       "            );\r\n",
       "        })\r\n",
       "        .catch(error => {console.log(error);});\r\n",
       "    }\r\n",
       "\r\n",
       "// ensure `require` is available globally\r\n",
       "if ((typeof(require) !==  typeof(Function)) || (typeof(require.config) !== typeof(Function))) {\r\n",
       "    let require_script = document.createElement('script');\r\n",
       "    require_script.setAttribute('src', 'https://cdnjs.cloudflare.com/ajax/libs/require.js/2.3.6/require.min.js');\r\n",
       "    require_script.setAttribute('type', 'text/javascript');\r\n",
       "    \r\n",
       "    \r\n",
       "    require_script.onload = function() {\r\n",
       "        loadDotnetInteractiveApi();\r\n",
       "    };\r\n",
       "\r\n",
       "    document.getElementsByTagName('head')[0].appendChild(require_script);\r\n",
       "}\r\n",
       "else {\r\n",
       "    loadDotnetInteractiveApi();\r\n",
       "}\r\n",
       "\r\n",
       "    </script>\r\n",
       "</div>"
      ]
     },
     "metadata": {}
    },
    {
     "output_type": "stream",
     "name": "stdout",
     "text": [
      "Franklin Fiske W0453627\n"
     ]
    }
   ],
   "metadata": {
    "colab": {},
    "colab_type": "code",
    "hide_input": false,
    "id": "WzPxfS7A6y9e"
   }
  },
  {
   "cell_type": "markdown",
   "source": [
    "Jane Doe W0123456"
   ],
   "metadata": {
    "colab_type": "text",
    "id": "Es-ulO716y9m"
   }
  },
  {
   "cell_type": "markdown",
   "source": [
    "---"
   ],
   "metadata": {
    "colab_type": "text",
    "id": "5fUTfuYX6y9p"
   }
  },
  {
   "cell_type": "markdown",
   "source": [
    "2) Create a variable, called __num__, to hold the integer value, __10__. Then, display the contents of the variable."
   ],
   "metadata": {
    "colab_type": "text",
    "id": "f2XqD7Ya6y9q"
   }
  },
  {
   "cell_type": "code",
   "execution_count": 1,
   "source": [
    "Write-Host $num 10"
   ],
   "outputs": [
    {
     "output_type": "display_data",
     "data": {
      "text/html": [
       "\r\n",
       "<div>\r\n",
       "    <div id='dotnet-interactive-this-cell-2016.Microsoft.DotNet.Interactive.Http.HttpPort' style='display: none'>\r\n",
       "        The below script needs to be able to find the current output cell; this is an easy method to get it.\r\n",
       "    </div>\r\n",
       "    <script type='text/javascript'>\r\n",
       "async function probeAddresses(probingAddresses) {\r\n",
       "    function timeout(ms, promise) {\r\n",
       "        return new Promise(function (resolve, reject) {\r\n",
       "            setTimeout(function () {\r\n",
       "                reject(new Error('timeout'))\r\n",
       "            }, ms)\r\n",
       "            promise.then(resolve, reject)\r\n",
       "        })\r\n",
       "    }\r\n",
       "\r\n",
       "    if (Array.isArray(probingAddresses)) {\r\n",
       "        for (let i = 0; i < probingAddresses.length; i++) {\r\n",
       "\r\n",
       "            let rootUrl = probingAddresses[i];\r\n",
       "\r\n",
       "            if (!rootUrl.endsWith('/')) {\r\n",
       "                rootUrl = `${rootUrl}/`;\r\n",
       "            }\r\n",
       "\r\n",
       "            try {\r\n",
       "                let response = await timeout(1000, fetch(`${rootUrl}discovery`, {\r\n",
       "                    method: 'POST',\r\n",
       "                    cache: 'no-cache',\r\n",
       "                    mode: 'cors',\r\n",
       "                    timeout: 1000,\r\n",
       "                    headers: {\r\n",
       "                        'Content-Type': 'text/plain'\r\n",
       "                    },\r\n",
       "                    body: probingAddresses[i]\r\n",
       "                }));\r\n",
       "\r\n",
       "                if (response.status == 200) {\r\n",
       "                    return rootUrl;\r\n",
       "                }\r\n",
       "            }\r\n",
       "            catch (e) { }\r\n",
       "        }\r\n",
       "    }\r\n",
       "}\r\n",
       "\r\n",
       "function loadDotnetInteractiveApi() {\r\n",
       "    probeAddresses([\"http://192.168.40.129:1002/\", \"http://127.0.0.1:1002/\"])\r\n",
       "        .then((root) => {\r\n",
       "        // use probing to find host url and api resources\r\n",
       "        // load interactive helpers and language services\r\n",
       "        let dotnetInteractiveRequire = require.config({\r\n",
       "        context: '2016.Microsoft.DotNet.Interactive.Http.HttpPort',\r\n",
       "                paths:\r\n",
       "            {\r\n",
       "                'dotnet-interactive': `${root}resources`\r\n",
       "                }\r\n",
       "        }) || require;\r\n",
       "\r\n",
       "            window.dotnetInteractiveRequire = dotnetInteractiveRequire;\r\n",
       "\r\n",
       "            window.configureRequireFromExtension = function(extensionName, extensionCacheBuster) {\r\n",
       "                let paths = {};\r\n",
       "                paths[extensionName] = `${root}extensions/${extensionName}/resources/`;\r\n",
       "                \r\n",
       "                let internalRequire = require.config({\r\n",
       "                    context: extensionCacheBuster,\r\n",
       "                    paths: paths,\r\n",
       "                    urlArgs: `cacheBuster=${extensionCacheBuster}`\r\n",
       "                    }) || require;\r\n",
       "\r\n",
       "                return internalRequire\r\n",
       "            };\r\n",
       "        \r\n",
       "            dotnetInteractiveRequire([\r\n",
       "                    'dotnet-interactive/dotnet-interactive'\r\n",
       "                ],\r\n",
       "                function (dotnet) {\r\n",
       "                    dotnet.init(window);\r\n",
       "                },\r\n",
       "                function (error) {\r\n",
       "                    console.log(error);\r\n",
       "                }\r\n",
       "            );\r\n",
       "        })\r\n",
       "        .catch(error => {console.log(error);});\r\n",
       "    }\r\n",
       "\r\n",
       "// ensure `require` is available globally\r\n",
       "if ((typeof(require) !==  typeof(Function)) || (typeof(require.config) !== typeof(Function))) {\r\n",
       "    let require_script = document.createElement('script');\r\n",
       "    require_script.setAttribute('src', 'https://cdnjs.cloudflare.com/ajax/libs/require.js/2.3.6/require.min.js');\r\n",
       "    require_script.setAttribute('type', 'text/javascript');\r\n",
       "    \r\n",
       "    \r\n",
       "    require_script.onload = function() {\r\n",
       "        loadDotnetInteractiveApi();\r\n",
       "    };\r\n",
       "\r\n",
       "    document.getElementsByTagName('head')[0].appendChild(require_script);\r\n",
       "}\r\n",
       "else {\r\n",
       "    loadDotnetInteractiveApi();\r\n",
       "}\r\n",
       "\r\n",
       "    </script>\r\n",
       "</div>"
      ]
     },
     "metadata": {}
    },
    {
     "output_type": "stream",
     "name": "stdout",
     "text": [
      " 10\n"
     ]
    }
   ],
   "metadata": {
    "colab": {},
    "colab_type": "code",
    "id": "oBwsAgVF6y9s"
   }
  },
  {
   "cell_type": "markdown",
   "source": [
    "10"
   ],
   "metadata": {
    "colab_type": "text",
    "id": "l_Q8MbM86y9z"
   }
  },
  {
   "cell_type": "markdown",
   "source": [
    "---"
   ],
   "metadata": {
    "colab_type": "text",
    "id": "abgJYaMv6y91"
   }
  },
  {
   "cell_type": "markdown",
   "source": [
    "3) Create a variable to hold the name of your favourite TV character. Then, use string formatting to display the message \"My favourite TV star is: \" with the variable contents appended. (e.g. \"My favourite TV star is: Homer Simpson\")"
   ],
   "metadata": {
    "colab_type": "text",
    "id": "QgmpkjOE6y93"
   }
  },
  {
   "cell_type": "code",
   "execution_count": 2,
   "source": [
    "Write-Host $fav \"My favourite TV star is: Rick Grimes\""
   ],
   "outputs": [
    {
     "output_type": "stream",
     "name": "stdout",
     "text": [
      " My favourite TV star is: Rick Grimes\n"
     ]
    }
   ],
   "metadata": {
    "colab": {},
    "colab_type": "code",
    "id": "36FjBTTw6y95"
   }
  },
  {
   "cell_type": "markdown",
   "source": [
    "My favourite TV star is: Homer Simpson"
   ],
   "metadata": {
    "colab_type": "text",
    "id": "yblg8E4p6y9_"
   }
  },
  {
   "cell_type": "markdown",
   "source": [
    "---"
   ],
   "metadata": {
    "colab_type": "text",
    "id": "Z1ZTYMrg6y-A"
   }
  },
  {
   "cell_type": "markdown",
   "source": [
    "4) Display Santa Clause's catch phrase (Ho Ho Ho) using the string replication operator."
   ],
   "metadata": {
    "colab_type": "text",
    "id": "5wf6aWFu6y-C"
   }
  },
  {
   "cell_type": "code",
   "execution_count": 3,
   "source": [
    "Write-Host Ho Ho Ho"
   ],
   "outputs": [
    {
     "output_type": "stream",
     "name": "stdout",
     "text": [
      "Ho Ho Ho\n"
     ]
    }
   ],
   "metadata": {
    "colab": {},
    "colab_type": "code",
    "id": "Zb2fu3Vi6y-D"
   }
  },
  {
   "cell_type": "markdown",
   "source": [
    "Ho Ho Ho "
   ],
   "metadata": {
    "colab_type": "text",
    "id": "_1Rqco0g6y-I"
   }
  },
  {
   "cell_type": "markdown",
   "source": [
    "---"
   ],
   "metadata": {
    "colab_type": "text",
    "id": "Hzr0pZwz6y-K"
   }
  },
  {
   "cell_type": "markdown",
   "source": [
    "5) Create the PowerShell statement to calculate the following mathematical expression: $2 + 3 \\times 4 - 6 \\div 3 $"
   ],
   "metadata": {
    "colab_type": "text",
    "id": "A835cS6V6y-M"
   }
  },
  {
   "cell_type": "code",
   "execution_count": null,
   "source": [],
   "outputs": [],
   "metadata": {
    "colab": {},
    "colab_type": "code",
    "id": "0WBkOlyU6y-N"
   }
  },
  {
   "cell_type": "markdown",
   "source": [
    "12"
   ],
   "metadata": {
    "colab_type": "text",
    "id": "b0lboah16y-S"
   }
  },
  {
   "cell_type": "markdown",
   "source": [
    "---"
   ],
   "metadata": {
    "colab_type": "text",
    "id": "E-mgGgbG6y-U"
   }
  },
  {
   "cell_type": "markdown",
   "source": [
    "### Part B - Fix the Error! (15pts)\n",
    "\n",
    "Listed below are several snippets of code that contain small errors. For each of the questions, __correct the error__ so the code will generate the desired output.\n",
    "\n",
    "---"
   ],
   "metadata": {
    "colab_type": "text",
    "id": "clFbvpgn6y-V"
   }
  },
  {
   "cell_type": "markdown",
   "source": [
    "6) Display a string of text on the screen."
   ],
   "metadata": {
    "colab_type": "text",
    "id": "MvbrIaDp6y-X"
   }
  },
  {
   "cell_type": "code",
   "execution_count": 4,
   "source": [
    "Write-Host 'This is a story about a man named Jed.'"
   ],
   "outputs": [
    {
     "output_type": "stream",
     "name": "stdout",
     "text": [
      "This is a story about a man named Jed.\n"
     ]
    }
   ],
   "metadata": {
    "colab": {},
    "colab_type": "code",
    "id": "tV81pJmY6y-Z"
   }
  },
  {
   "cell_type": "markdown",
   "source": [
    "This is a story about a man named Jed."
   ],
   "metadata": {
    "colab_type": "text",
    "hide_input": false,
    "id": "bxFcQ3OL6y-e"
   }
  },
  {
   "cell_type": "markdown",
   "source": [
    "---"
   ],
   "metadata": {
    "colab_type": "text",
    "id": "C25pX2RK6y-g"
   }
  },
  {
   "cell_type": "markdown",
   "source": [
    "7) Concatenate a string and a decimal number."
   ],
   "metadata": {
    "colab_type": "text",
    "id": "ktSlWc6N6y-h"
   }
  },
  {
   "cell_type": "code",
   "execution_count": 6,
   "source": [
    "$out = \"PI = 3.14159\"\r\n",
    "Write-Host $out"
   ],
   "outputs": [
    {
     "output_type": "stream",
     "name": "stdout",
     "text": [
      "PI = 3.14159\n"
     ]
    }
   ],
   "metadata": {
    "colab": {},
    "colab_type": "code",
    "id": "hLpjaTaf6y-i"
   }
  },
  {
   "cell_type": "markdown",
   "source": [
    "PI = 3.14159"
   ],
   "metadata": {
    "colab_type": "text",
    "hide_input": false,
    "id": "xO_FFzZY6y-m"
   }
  },
  {
   "cell_type": "markdown",
   "source": [
    "---"
   ],
   "metadata": {
    "colab_type": "text",
    "id": "9QoBU_y66y-n"
   }
  },
  {
   "cell_type": "markdown",
   "source": [
    "8) Print a calculation."
   ],
   "metadata": {
    "colab_type": "text",
    "id": "JqoR_7nD6y-p"
   }
  },
  {
   "cell_type": "code",
   "execution_count": 7,
   "source": [
    "Write-Host >(1 + 2) = 3"
   ],
   "outputs": [
    {
     "output_type": "stream",
     "name": "stdout",
     "text": [
      "= 3\n"
     ]
    }
   ],
   "metadata": {
    "colab": {},
    "colab_type": "code",
    "id": "XgzRrjS76y-q"
   }
  },
  {
   "cell_type": "markdown",
   "source": [
    "3"
   ],
   "metadata": {
    "colab_type": "text",
    "hide_input": false,
    "id": "T80xIQNw6y-v"
   }
  },
  {
   "cell_type": "markdown",
   "source": [
    "---"
   ],
   "metadata": {
    "colab_type": "text",
    "id": "DFA2VS036y-y"
   }
  },
  {
   "cell_type": "markdown",
   "source": [
    "9) Print a string and a calculation."
   ],
   "metadata": {
    "colab_type": "text",
    "id": "4E936jWH6y-z"
   }
  },
  {
   "cell_type": "code",
   "execution_count": 8,
   "source": [
    "Write-Host \"((3,3))\""
   ],
   "outputs": [
    {
     "output_type": "stream",
     "name": "stdout",
     "text": [
      "((3,3))\n"
     ]
    }
   ],
   "metadata": {
    "colab": {},
    "colab_type": "code",
    "id": "IfmIJzCw6y-0"
   }
  },
  {
   "cell_type": "markdown",
   "source": [
    "3 cubed = 27"
   ],
   "metadata": {
    "colab_type": "text",
    "hide_input": false,
    "id": "QWoZX78Y6y-2"
   }
  },
  {
   "cell_type": "markdown",
   "source": [
    "---"
   ],
   "metadata": {
    "colab_type": "text",
    "id": "2cshrCMI6y-4"
   }
  },
  {
   "cell_type": "markdown",
   "source": [
    "10) Display a name in the format <em>&lt;last name&gt;, &lt;first name&gt;</em>"
   ],
   "metadata": {
    "colab_type": "text",
    "id": "qDoiSp5n6y-6"
   }
  },
  {
   "cell_type": "code",
   "execution_count": 9,
   "source": [
    "Write-Host (\"{0}, {1}\" -f 'Smith','John')"
   ],
   "outputs": [
    {
     "output_type": "stream",
     "name": "stdout",
     "text": [
      "Smith, John\n"
     ]
    }
   ],
   "metadata": {
    "colab": {},
    "colab_type": "code",
    "id": "MzATP0zW6y-7"
   }
  },
  {
   "cell_type": "markdown",
   "source": [
    "Smith, John"
   ],
   "metadata": {
    "colab_type": "text",
    "hide_input": false,
    "id": "p7efUk0_6y_A"
   }
  },
  {
   "cell_type": "markdown",
   "source": [
    "---"
   ],
   "metadata": {
    "colab_type": "text",
    "id": "WBPb2GYB6y_A"
   }
  },
  {
   "cell_type": "markdown",
   "source": [
    "11) Display the answer of an integer division and the remainder. There should not be any decimal points displayed."
   ],
   "metadata": {
    "colab_type": "text",
    "id": "-fePfJ-l6y_D"
   }
  },
  {
   "cell_type": "code",
   "execution_count": 1,
   "source": [
    "Write-Host \"13 / 5 =\" (10/5) \"remainder\" (12/4)"
   ],
   "outputs": [
    {
     "output_type": "display_data",
     "data": {
      "text/html": [
       "\r\n",
       "<div>\r\n",
       "    <div id='dotnet-interactive-this-cell-4876.Microsoft.DotNet.Interactive.Http.HttpPort' style='display: none'>\r\n",
       "        The below script needs to be able to find the current output cell; this is an easy method to get it.\r\n",
       "    </div>\r\n",
       "    <script type='text/javascript'>\r\n",
       "async function probeAddresses(probingAddresses) {\r\n",
       "    function timeout(ms, promise) {\r\n",
       "        return new Promise(function (resolve, reject) {\r\n",
       "            setTimeout(function () {\r\n",
       "                reject(new Error('timeout'))\r\n",
       "            }, ms)\r\n",
       "            promise.then(resolve, reject)\r\n",
       "        })\r\n",
       "    }\r\n",
       "\r\n",
       "    if (Array.isArray(probingAddresses)) {\r\n",
       "        for (let i = 0; i < probingAddresses.length; i++) {\r\n",
       "\r\n",
       "            let rootUrl = probingAddresses[i];\r\n",
       "\r\n",
       "            if (!rootUrl.endsWith('/')) {\r\n",
       "                rootUrl = `${rootUrl}/`;\r\n",
       "            }\r\n",
       "\r\n",
       "            try {\r\n",
       "                let response = await timeout(1000, fetch(`${rootUrl}discovery`, {\r\n",
       "                    method: 'POST',\r\n",
       "                    cache: 'no-cache',\r\n",
       "                    mode: 'cors',\r\n",
       "                    timeout: 1000,\r\n",
       "                    headers: {\r\n",
       "                        'Content-Type': 'text/plain'\r\n",
       "                    },\r\n",
       "                    body: probingAddresses[i]\r\n",
       "                }));\r\n",
       "\r\n",
       "                if (response.status == 200) {\r\n",
       "                    return rootUrl;\r\n",
       "                }\r\n",
       "            }\r\n",
       "            catch (e) { }\r\n",
       "        }\r\n",
       "    }\r\n",
       "}\r\n",
       "\r\n",
       "function loadDotnetInteractiveApi() {\r\n",
       "    probeAddresses([\"http://192.168.40.129:1000/\", \"http://127.0.0.1:1000/\"])\r\n",
       "        .then((root) => {\r\n",
       "        // use probing to find host url and api resources\r\n",
       "        // load interactive helpers and language services\r\n",
       "        let dotnetInteractiveRequire = require.config({\r\n",
       "        context: '4876.Microsoft.DotNet.Interactive.Http.HttpPort',\r\n",
       "                paths:\r\n",
       "            {\r\n",
       "                'dotnet-interactive': `${root}resources`\r\n",
       "                }\r\n",
       "        }) || require;\r\n",
       "\r\n",
       "            window.dotnetInteractiveRequire = dotnetInteractiveRequire;\r\n",
       "\r\n",
       "            window.configureRequireFromExtension = function(extensionName, extensionCacheBuster) {\r\n",
       "                let paths = {};\r\n",
       "                paths[extensionName] = `${root}extensions/${extensionName}/resources/`;\r\n",
       "                \r\n",
       "                let internalRequire = require.config({\r\n",
       "                    context: extensionCacheBuster,\r\n",
       "                    paths: paths,\r\n",
       "                    urlArgs: `cacheBuster=${extensionCacheBuster}`\r\n",
       "                    }) || require;\r\n",
       "\r\n",
       "                return internalRequire\r\n",
       "            };\r\n",
       "        \r\n",
       "            dotnetInteractiveRequire([\r\n",
       "                    'dotnet-interactive/dotnet-interactive'\r\n",
       "                ],\r\n",
       "                function (dotnet) {\r\n",
       "                    dotnet.init(window);\r\n",
       "                },\r\n",
       "                function (error) {\r\n",
       "                    console.log(error);\r\n",
       "                }\r\n",
       "            );\r\n",
       "        })\r\n",
       "        .catch(error => {console.log(error);});\r\n",
       "    }\r\n",
       "\r\n",
       "// ensure `require` is available globally\r\n",
       "if ((typeof(require) !==  typeof(Function)) || (typeof(require.config) !== typeof(Function))) {\r\n",
       "    let require_script = document.createElement('script');\r\n",
       "    require_script.setAttribute('src', 'https://cdnjs.cloudflare.com/ajax/libs/require.js/2.3.6/require.min.js');\r\n",
       "    require_script.setAttribute('type', 'text/javascript');\r\n",
       "    \r\n",
       "    \r\n",
       "    require_script.onload = function() {\r\n",
       "        loadDotnetInteractiveApi();\r\n",
       "    };\r\n",
       "\r\n",
       "    document.getElementsByTagName('head')[0].appendChild(require_script);\r\n",
       "}\r\n",
       "else {\r\n",
       "    loadDotnetInteractiveApi();\r\n",
       "}\r\n",
       "\r\n",
       "    </script>\r\n",
       "</div>"
      ]
     },
     "metadata": {}
    },
    {
     "output_type": "stream",
     "name": "stdout",
     "text": [
      "13 / 5 = 2 remainder 3\n"
     ]
    }
   ],
   "metadata": {
    "colab": {},
    "colab_type": "code",
    "id": "pU0SZtVT6y_D"
   }
  },
  {
   "cell_type": "markdown",
   "source": [
    "13 / 5 = 2 remainder 3"
   ],
   "metadata": {
    "colab_type": "text",
    "hide_input": false,
    "id": "ZHMyYGDr6y_H"
   }
  },
  {
   "cell_type": "markdown",
   "source": [
    "---"
   ],
   "metadata": {
    "colab_type": "text",
    "id": "Jj5xRTax6y_I"
   }
  },
  {
   "cell_type": "markdown",
   "source": [
    "12) Use two Write-Host statements to display on the same line."
   ],
   "metadata": {
    "colab_type": "text",
    "id": "mdXkqJSQ6y_K"
   }
  },
  {
   "cell_type": "code",
   "execution_count": 10,
   "source": [
    "Write-Host \"This is on the same line\"\r\n",
    "Write-Host -NoNewline "
   ],
   "outputs": [
    {
     "output_type": "stream",
     "name": "stdout",
     "text": [
      "This is on the same line\n"
     ]
    }
   ],
   "metadata": {
    "colab": {},
    "colab_type": "code",
    "id": "2lG5lMjV6y_L"
   }
  },
  {
   "cell_type": "markdown",
   "source": [
    "This is on the same line."
   ],
   "metadata": {
    "colab_type": "text",
    "hide_input": false,
    "id": "Li8GQBhP6y_P"
   }
  },
  {
   "cell_type": "markdown",
   "source": [
    "---"
   ],
   "metadata": {
    "colab_type": "text",
    "id": "fPefqaRC6y_Q"
   }
  },
  {
   "cell_type": "markdown",
   "source": [
    "13) Concatentate the string with the addition."
   ],
   "metadata": {
    "colab_type": "text",
    "id": "zDfgedeQ6y_R"
   }
  },
  {
   "cell_type": "code",
   "execution_count": 12,
   "source": [
    "$out = \"1 + 2 = 3\"\r\n",
    "Write-Host $out"
   ],
   "outputs": [
    {
     "output_type": "stream",
     "name": "stdout",
     "text": [
      "1 + 2 = 3\n"
     ]
    }
   ],
   "metadata": {
    "colab": {},
    "colab_type": "code",
    "id": "QxYwQGT_6y_S"
   }
  },
  {
   "cell_type": "markdown",
   "source": [
    "1 + 2 = 3"
   ],
   "metadata": {
    "colab_type": "text",
    "hide_input": false,
    "id": "oHjfY8WX6y_U"
   }
  },
  {
   "cell_type": "markdown",
   "source": [
    "---"
   ],
   "metadata": {
    "colab_type": "text",
    "id": "j-9PA9_k6y_V"
   }
  },
  {
   "cell_type": "markdown",
   "source": [
    "14) Concatentate the string with the integer."
   ],
   "metadata": {
    "colab_type": "text",
    "id": "X5D1SkqU6y_W"
   }
  },
  {
   "cell_type": "code",
   "execution_count": 13,
   "source": [
    "$string = \"Number = 99\" \r\n",
    "Write-Host $string"
   ],
   "outputs": [
    {
     "output_type": "stream",
     "name": "stdout",
     "text": [
      "Number = 99\n"
     ]
    }
   ],
   "metadata": {
    "colab": {},
    "colab_type": "code",
    "id": "G5712cAE6y_X"
   }
  },
  {
   "cell_type": "markdown",
   "source": [
    "Number = 99"
   ],
   "metadata": {
    "colab_type": "text",
    "hide_input": false,
    "id": "96UK1g5z6y_b"
   }
  },
  {
   "cell_type": "markdown",
   "source": [
    "---"
   ],
   "metadata": {
    "colab_type": "text",
    "id": "xt8Nvun06y_c"
   }
  },
  {
   "cell_type": "markdown",
   "source": [
    "15) Use a single Write-Host statement to print on multiple lines."
   ],
   "metadata": {
    "colab_type": "text",
    "id": "E6vzuJbj6y_d"
   }
  },
  {
   "cell_type": "code",
   "execution_count": 14,
   "source": [
    "$filename = \"on mulitple\"\r\n",
    "    \r\n",
    "echo \"\"\r\n",
    "echo \"This is\" $filename \"lines.\"\r\n",
    "echo \"\""
   ],
   "outputs": [
    {
     "output_type": "stream",
     "name": "stdout",
     "text": [
      "\n",
      "This is\n",
      "on mulitple\n",
      "lines.\n",
      "\n"
     ]
    }
   ],
   "metadata": {
    "colab": {},
    "colab_type": "code",
    "id": "ikSIAVWP6y_f"
   }
  },
  {
   "cell_type": "markdown",
   "source": [
    "This is<br>\n",
    "on multiple<br>\n",
    "lines."
   ],
   "metadata": {
    "colab_type": "text",
    "hide_input": false,
    "id": "A8abaWIK6y_i"
   }
  },
  {
   "cell_type": "markdown",
   "source": [
    "---"
   ],
   "metadata": {
    "colab_type": "text",
    "id": "tqq23ggf6y_j"
   }
  },
  {
   "cell_type": "markdown",
   "source": [
    "16) Comment out the first line."
   ],
   "metadata": {
    "colab_type": "text",
    "id": "A5dYC_Im6y_k"
   }
  },
  {
   "cell_type": "code",
   "execution_count": 15,
   "source": [
    "Write-Host #This is just a comment.#\r\n",
    "Write-Host \"You should only see this line.\""
   ],
   "outputs": [
    {
     "output_type": "stream",
     "name": "stdout",
     "text": [
      "\n",
      "You should only see this line.\n"
     ]
    }
   ],
   "metadata": {
    "colab": {},
    "colab_type": "code",
    "id": "F2c7Ps2K6y_l"
   }
  },
  {
   "cell_type": "markdown",
   "source": [
    "You should only see this line."
   ],
   "metadata": {
    "colab_type": "text",
    "hide_input": false,
    "id": "UBjft-_Q6y_o"
   }
  },
  {
   "cell_type": "markdown",
   "source": [
    "---"
   ],
   "metadata": {
    "colab_type": "text",
    "id": "dIlFC3t36y_p"
   }
  },
  {
   "cell_type": "markdown",
   "source": [
    "17) Make some ASCII art!"
   ],
   "metadata": {
    "colab_type": "text",
    "id": "T-rGL5rf6y_p"
   }
  },
  {
   "cell_type": "code",
   "execution_count": 16,
   "source": [
    "Write-Host \"\r\n",
    "             .    . \r\n",
    "             \\ O / \r\n",
    "               - \r\n",
    "               | \r\n",
    "               ^ \r\n",
    "              / \\ \r\n",
    "             -   -\""
   ],
   "outputs": [
    {
     "output_type": "stream",
     "name": "stdout",
     "text": [
      "\n",
      "             .    . \n",
      "             \\ O / \n",
      "               - \n",
      "               | \n",
      "               ^ \n",
      "              / \\ \n",
      "             -   -\n"
     ]
    }
   ],
   "metadata": {
    "colab": {},
    "colab_type": "code",
    "id": "UNfkaCmd6y_q"
   }
  },
  {
   "cell_type": "markdown",
   "source": [
    "<pre>\n",
    ".     .\n",
    " \\ O /\n",
    "  - -\n",
    "   |\n",
    "   ^\n",
    "  / \\\n",
    " -   -\n",
    " </pre>"
   ],
   "metadata": {
    "colab_type": "text",
    "hide_input": false,
    "id": "13-5dgUB6y_t"
   }
  },
  {
   "cell_type": "markdown",
   "source": [
    "---"
   ],
   "metadata": {
    "colab_type": "text",
    "id": "HtT9IyLW6y_t"
   }
  },
  {
   "cell_type": "markdown",
   "source": [
    "18) A couple of problems here...."
   ],
   "metadata": {
    "colab_type": "text",
    "id": "y8t5sNEJ6y_v"
   }
  },
  {
   "cell_type": "code",
   "execution_count": 17,
   "source": [
    "Write-Host \"Something's not right here.\""
   ],
   "outputs": [
    {
     "output_type": "stream",
     "name": "stdout",
     "text": [
      "Something's not right here.\n"
     ]
    }
   ],
   "metadata": {
    "colab": {},
    "colab_type": "code",
    "id": "18i2xD8I6y_w"
   }
  },
  {
   "cell_type": "markdown",
   "source": [
    "Something's not right here."
   ],
   "metadata": {
    "colab_type": "text",
    "hide_input": false,
    "id": "e4rOW-WF6y_z"
   }
  },
  {
   "cell_type": "markdown",
   "source": [
    "---"
   ],
   "metadata": {
    "colab_type": "text",
    "id": "F_VZsY4J6y_0"
   }
  },
  {
   "cell_type": "markdown",
   "source": [
    "19) Add the contents of variables to a string using string formatting."
   ],
   "metadata": {
    "colab_type": "text",
    "id": "4vX2ih9y6y_0"
   }
  },
  {
   "cell_type": "code",
   "execution_count": 18,
   "source": [
    "$name = 'John Smith'\r\n",
    "$age = 50\r\n",
    "Write-Host 'John Smith is 50 years old'"
   ],
   "outputs": [
    {
     "output_type": "stream",
     "name": "stdout",
     "text": [
      "John Smith is 50 years old\n"
     ]
    }
   ],
   "metadata": {
    "colab": {},
    "colab_type": "code",
    "id": "vE2lw-j66y_1"
   }
  },
  {
   "cell_type": "markdown",
   "source": [
    "John Smith is 50 years old."
   ],
   "metadata": {
    "colab_type": "text",
    "id": "6IVRe1Qh6y_5"
   }
  },
  {
   "cell_type": "markdown",
   "source": [
    "---"
   ],
   "metadata": {
    "colab_type": "text",
    "id": "A68QJSUp6y_5"
   }
  },
  {
   "cell_type": "markdown",
   "source": [
    "20) Add the contents of variables to a string using variable expansion."
   ],
   "metadata": {
    "colab_type": "text",
    "id": "xZuKb1vx6y_6"
   }
  },
  {
   "cell_type": "code",
   "execution_count": 19,
   "source": [
    "$name = 'John Smith'\r\n",
    "$age = 50\r\n",
    "Write-Host 'John Smith is 50 years old'"
   ],
   "outputs": [
    {
     "output_type": "stream",
     "name": "stdout",
     "text": [
      "John Smith is 50 years old\n"
     ]
    }
   ],
   "metadata": {
    "colab": {},
    "colab_type": "code",
    "id": "hj4qG8JN6y_7"
   }
  },
  {
   "cell_type": "markdown",
   "source": [
    "John Smith is 50 years old."
   ],
   "metadata": {
    "colab_type": "text",
    "id": "_Yy8M9Tt6y_-"
   }
  },
  {
   "cell_type": "markdown",
   "source": [
    "---\n",
    "\n",
    "### Part C - Math (15pts)\n",
    "\n",
    "Create a Python program that calculates the roots of a quadratic equation using the equation, $x = \\large {-b \\pm \\sqrt{b^2 - 4ac} \\over 2a}$.\n",
    "\n",
    "You can assume that the equations used will always have two defined roots. (i.e. ${a \\ne 0}$)\n",
    "\n",
    "The program should allow the user to input the three variables of the formula, a, b, and c, and then output the resulting roots.\n",
    "\n",
    "Example:\n",
    "\n",
    "<div style=\"width:800px\"><img src=\"img/quadratic.gif\" /></div>"
   ],
   "metadata": {}
  },
  {
   "cell_type": "code",
   "execution_count": null,
   "source": [],
   "outputs": [],
   "metadata": {}
  }
 ],
 "metadata": {
  "colab": {
   "collapsed_sections": [],
   "name": "Assignment 1 - Input and Output.ipynb",
   "provenance": [],
   "toc_visible": true,
   "version": "0.3.2"
  },
  "hide_input": false,
  "kernelspec": {
   "display_name": ".NET (PowerShell)",
   "language": "PowerShell",
   "name": ".net-powershell"
  },
  "language_info": {
   "file_extension": ".ps1",
   "mimetype": "text/x-powershell",
   "name": "PowerShell",
   "pygments_lexer": "powershell",
   "version": "7.0"
  }
 },
 "nbformat": 4,
 "nbformat_minor": 4
}